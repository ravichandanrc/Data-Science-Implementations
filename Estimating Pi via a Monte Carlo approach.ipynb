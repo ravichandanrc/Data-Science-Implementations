{
 "cells": [
  {
   "cell_type": "markdown",
   "id": "cd30c8b0",
   "metadata": {},
   "source": [
    "### Importing the Modules"
   ]
  },
  {
   "cell_type": "code",
   "execution_count": 1,
   "id": "60b2f35a",
   "metadata": {},
   "outputs": [],
   "source": [
    "import random\n",
    "import math\n",
    "import time"
   ]
  },
  {
   "cell_type": "code",
   "execution_count": 2,
   "id": "5eae5193",
   "metadata": {},
   "outputs": [],
   "source": [
    "# initializing the values\n",
    "inside = 0\n",
    "outside = 0\n",
    "iterations = 1000000"
   ]
  },
  {
   "cell_type": "code",
   "execution_count": 3,
   "id": "3072f17c",
   "metadata": {},
   "outputs": [],
   "source": [
    "## CODE TO SEED THE RANDOM NUMBER GENERATOR\n",
    "random.seed(int(round(time.time()*1000)))"
   ]
  },
  {
   "cell_type": "markdown",
   "id": "5638635c",
   "metadata": {},
   "source": [
    "### Estimating Pi via a Monte Carlo approach"
   ]
  },
  {
   "cell_type": "code",
   "execution_count": 4,
   "id": "35d94ba0",
   "metadata": {},
   "outputs": [
    {
     "name": "stdout",
     "output_type": "stream",
     "text": [
      "Points inside the circle = 785860 and the points outside circle = 214140\n",
      "The Value of Pi =  3.14344\n"
     ]
    }
   ],
   "source": [
    "for i in range(iterations):\n",
    "    # selecting two random numbers between 0 and 1\n",
    "    x = random.uniform(0,1)\n",
    "    y = random.uniform(0,1)\n",
    "    \n",
    "    # calculating the distance from origin\n",
    "    origin_dist = math.sqrt(x**2 + y**2)\n",
    "   \n",
    "    # incrementing the counters\n",
    "    # according to the condition\n",
    "    if origin_dist <= 1:\n",
    "        inside+=1\n",
    "    else:\n",
    "        outside+=1\n",
    "\n",
    "# calculating the value of Pi \n",
    "pi_value = 4 * (inside/(inside+outside)) \n",
    "\n",
    "# result\n",
    "print(\"Points inside the circle = {} and the points outside circle = {}\".format(inside, outside))\n",
    "print(\"The Value of Pi = \", pi_value)"
   ]
  },
  {
   "cell_type": "code",
   "execution_count": null,
   "id": "d53a8f59",
   "metadata": {},
   "outputs": [],
   "source": []
  }
 ],
 "metadata": {
  "kernelspec": {
   "display_name": "Python 3",
   "language": "python",
   "name": "python3"
  },
  "language_info": {
   "codemirror_mode": {
    "name": "ipython",
    "version": 3
   },
   "file_extension": ".py",
   "mimetype": "text/x-python",
   "name": "python",
   "nbconvert_exporter": "python",
   "pygments_lexer": "ipython3",
   "version": "3.8.8"
  }
 },
 "nbformat": 4,
 "nbformat_minor": 5
}
