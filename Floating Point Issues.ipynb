{
 "cells": [
  {
   "cell_type": "markdown",
   "id": "1d5f414b",
   "metadata": {},
   "source": [
    "### Observations:\n",
    "\n",
    "After running the loop for 100 iterations, the exact sum can be observed at 11 numbers that are printed (0,1,3,4,5,6,11,12,43,44,45).\n",
    "Running the loop for 10,100,1000 iterations, it can be observed that sum decreased while the error increased.\n",
    "In case of part 2, after numerous trials - it can be deduced that the difference ('diff') is closest to 0.1 at 9998 iterations.\n",
    "i.e atleast 9998 iterations would be needed to have an error that is as large as the number we add (0.1 in this case).\n",
    "\n",
    "\n",
    "Two numbers between 0 and 1 which have incorrect results for 100 iterations : 0.2, 0.3\n",
    "While assigning the numbers like 0.2, 0.3, 0.4, etc, it can be observed that the correct results are not obtained as they are\n",
    "represented in binary format.\n",
    "The number is rounded to the the nearest integer in binary 64 format.\n",
    "However, few numbers are exactly represented as floating point numbers.\n",
    "Numbers like 0.25,0.5, 0.75 (my observations) do not have this issue as they are represented exactly as\n",
    "floating point numbers, being in the same format in binary64 and decimal.\n",
    "\n",
    "\n",
    "Using the decimal package, we can observe that the value of 'sum' increases slightly while 'diff_f' margin decreases.\n",
    "\n",
    "When we increase iterations, the value of sum decreases for regular floating point values while for for decimals, it does not.\n",
    "Also, the difference increases for regular floating point values while for decimals, it does not.\n",
    "Decimal package deals with nuumbers like how arithmetic is taught in school.\n",
    "Unlike floats, Python represents decimal numbers exactly. And the exactness carries over into arithmetic."
   ]
  },
  {
   "cell_type": "code",
   "execution_count": 1,
   "id": "607af0c7",
   "metadata": {},
   "outputs": [
    {
     "name": "stdout",
     "output_type": "stream",
     "text": [
      "The loop ran for  100  iterations and  0.1  was added resulting in a sum of  9.99999999999998  while the difference is  1.9539925233402755e-14\n",
      "The loop ran for  100  iterations and  0.1000000000000000055511151231257827021181583404541015625  was added resulting in a sum of  10.10000000000000056066262742  while the difference is  -0.10000000000000000555111511\n"
     ]
    }
   ],
   "source": [
    "#importing decimal package\n",
    "from decimal import *\n",
    "getcontext() #Set the max digit of Decimal objects in Python\n",
    "\n",
    "sum = 0 #initializing sum as zero\n",
    "toAdd = .1 #number that is added repeatedly\n",
    "max = 100 #total number of iterations\n",
    "\n",
    "#for loop to calculate and print sum\n",
    "for i in range (0, max, 1):\n",
    "        sum = sum + toAdd\n",
    "\n",
    "#getting correct result by the direct multiplication of the number 'toAdd' with iterations\n",
    "correct_result =(i+1)*toAdd\n",
    "#diff is the difference between multiplication and repeated addition (sum) of number\n",
    "diff = correct_result - sum\n",
    "\n",
    "print(\"The loop ran for \",(i+1),\" iterations and \",toAdd,\" was added resulting in a sum of \",sum,\" while the difference is \",diff)\n",
    "\n",
    "\n",
    "#second loop for decimals\n",
    "#toAdd_f is floating point number being added\n",
    "toAdd_f=Decimal(.1)\n",
    "sum_f= Decimal(.1)\n",
    "max_f=Decimal(100)\n",
    "#j iterating variable\n",
    "j=Decimal(0)\n",
    "\n",
    "#for loop to calculate and print sum\n",
    "for j in range (0, max, 1):\n",
    "        sum_f = sum_f + Decimal(toAdd_f)\n",
    "        correct_resultf = (j+1)*toAdd_f #correct_resultf is the correct result of direct multiplication of the number to add with iterations\n",
    "        \n",
    "correct_resultf=(j+1)*toAdd_f\n",
    "diff_f = correct_resultf-sum_f\n",
    "\n",
    "print(\"The loop ran for \",(j+1),\" iterations and \",toAdd_f,\" was added resulting in a sum of \",sum_f,\" while the difference is \",diff_f)"
   ]
  }
 ],
 "metadata": {
  "kernelspec": {
   "display_name": "Python 3",
   "language": "python",
   "name": "python3"
  },
  "language_info": {
   "codemirror_mode": {
    "name": "ipython",
    "version": 3
   },
   "file_extension": ".py",
   "mimetype": "text/x-python",
   "name": "python",
   "nbconvert_exporter": "python",
   "pygments_lexer": "ipython3",
   "version": "3.8.8"
  }
 },
 "nbformat": 4,
 "nbformat_minor": 5
}
