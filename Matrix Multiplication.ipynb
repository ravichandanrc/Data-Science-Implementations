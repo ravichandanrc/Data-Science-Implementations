{
 "cells": [
  {
   "cell_type": "markdown",
   "id": "4d9040a2",
   "metadata": {},
   "source": [
    "### Observations:\n",
    "\n",
    "Part 1:\n",
    "\n",
    "When running the code for multiple matrix sizes from 10 to 500, the following results are obtained.\n",
    "\n",
    "When the matrix size is 10, the elapsed time is less than a second.\n",
    "When the matrix size is 100, the time elapsed is close to 0.28 seconds.\n",
    "When the matrix size is 500, the elapsed time increased rapidly taking it to 33.64 seconds.\n",
    "\n",
    "As we can see from the above observations, time needed for computation per element increases as the matrix size increases.\n",
    "\n",
    "Part 2:\n",
    "\n",
    "\n",
    "After including @profile right above the function definition, the results can be compared to part 1 as follows:\n",
    "\n",
    "When the matrix size is 10, the elapsed time is less than a second.\n",
    "When the matrix size is 50, the elapsed time is 7.11 seconds.\n",
    "When the matrix size is 100, the elapsed time is 57.65 seconds.\n",
    "When the matrix size is 500, the elapsed time is 300 seconds.\n",
    "\n",
    "By analyzing memory usage line-by-line, the Profiler can show where code is consuming more memory, which changes the runtime. When the Profiler attempts to report\n",
    "the line-by-line amount and it finds duplicate lines, it discovers loops implicitly. Even though the time of execution is more in profiling,\n",
    "it optimises the function calls using comparatively lower resources. "
   ]
  },
  {
   "cell_type": "markdown",
   "id": "17baa973",
   "metadata": {},
   "source": [
    "### Importing the modules"
   ]
  },
  {
   "cell_type": "code",
   "execution_count": 2,
   "id": "3a1f4c6f",
   "metadata": {},
   "outputs": [],
   "source": [
    "import random\n",
    "import time\n",
    "from memory_profiler import profile"
   ]
  },
  {
   "cell_type": "code",
   "execution_count": 7,
   "id": "cbfd1949",
   "metadata": {},
   "outputs": [
    {
     "name": "stdout",
     "output_type": "stream",
     "text": [
      "Enter size: 100\n"
     ]
    }
   ],
   "source": [
    "prog_start = time.time() #initializing the timer\n",
    "\n",
    "@profile\n",
    "def multiply():\n",
    "    for i in range(size):\n",
    "        for j in range(size):\n",
    "            for k in range(size):\n",
    "                P[i][j]=P[i][j]+(A[i][k]*B[k][j]) #multiplication\n",
    "\n",
    "\n",
    "\n",
    "size=int(input(\"Enter size: \"))"
   ]
  },
  {
   "cell_type": "code",
   "execution_count": 8,
   "id": "a53de9e4",
   "metadata": {},
   "outputs": [
    {
     "name": "stdout",
     "output_type": "stream",
     "text": [
      "ERROR: Could not find file <ipython-input-7-09148ad46d74>\n",
      "NOTE: %mprun can only be used on functions defined in physical files, and not in the IPython environment.\n",
      "Overall time taken to compute (IN s) is 4.74 while the Number of elements in the result matrix is 10000 and the time per element (IN ms) is 0.4740946292877197\n"
     ]
    }
   ],
   "source": [
    "r1=size\n",
    "c1=size\n",
    "r2=size\n",
    "c2=size\n",
    "\n",
    "\n",
    "A=[[0 for i in range(c1)] for j in range(r1)] #initialize matrix A\n",
    "\n",
    "#input matrix A\n",
    "for i in range(r1):\n",
    "    for j in range(c1):\n",
    "        x=random.randint(1,100)\n",
    "        A[i][j]=x\n",
    "\n",
    "B=[[0 for i in range(c2)] for j in range(r2)] #initialize matrix B\n",
    "\n",
    "#input matrix B\n",
    "for i in range(r2):\n",
    "    for j in range(c2):\n",
    "        x=random.randint(1,100)\n",
    "        B[i][j]=x\n",
    "\n",
    "P=[[0 for i in range(c2)] for j in range(r1)] #initialize product matrix\n",
    "#INSERT CODE TO START TIMER\n",
    "t0 = time.time()\n",
    "\n",
    "multiply() #codeblock for which elapsed time to run is calculated.\n",
    "\n",
    "#INSERT CODE TO STOP TIMER\n",
    "t1 = time.time()\n",
    "\n",
    "#INSERT CODE TO COMPUTE ELAPSED TIME\n",
    "total_time = t1 - prog_start\n",
    "\n",
    "#Number of Elements in the Resultant matrix\n",
    "elements = r1*c2\n",
    "\n",
    "#Time per element\n",
    "time_element = (1000*total_time)/elements\n",
    "\n",
    "#INSERT CODE TO PRINT OVERALL TIME (IN s), NUMBER OF ELEMENTS IN THE RESULT MATRIX, AND TIME PER ELEMENT (IN ms)\n",
    "\n",
    "print('Overall time taken to compute (IN s) is', round(total_time,2), 'while the Number of elements in the result matrix is',elements,'and the time per element (IN ms) is',time_element) \n"
   ]
  },
  {
   "cell_type": "code",
   "execution_count": null,
   "id": "a183c63b",
   "metadata": {},
   "outputs": [],
   "source": []
  }
 ],
 "metadata": {
  "kernelspec": {
   "display_name": "Python 3",
   "language": "python",
   "name": "python3"
  },
  "language_info": {
   "codemirror_mode": {
    "name": "ipython",
    "version": 3
   },
   "file_extension": ".py",
   "mimetype": "text/x-python",
   "name": "python",
   "nbconvert_exporter": "python",
   "pygments_lexer": "ipython3",
   "version": "3.8.8"
  }
 },
 "nbformat": 4,
 "nbformat_minor": 5
}
