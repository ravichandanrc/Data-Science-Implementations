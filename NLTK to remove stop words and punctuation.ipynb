{
 "cells": [
  {
   "cell_type": "markdown",
   "id": "a74e97ae",
   "metadata": {},
   "source": [
    "### Importing the necessary modules"
   ]
  },
  {
   "cell_type": "code",
   "execution_count": 7,
   "id": "2a1def68",
   "metadata": {},
   "outputs": [],
   "source": [
    "import nltk\n",
    "from nltk.corpus import gutenberg, stopwords\n",
    "from nltk.probability import FreqDist\n",
    "import string"
   ]
  },
  {
   "cell_type": "markdown",
   "id": "8129b3d3",
   "metadata": {},
   "source": [
    "### Checking common words before removing stop words and punctuation"
   ]
  },
  {
   "cell_type": "code",
   "execution_count": 11,
   "id": "123cb1cb",
   "metadata": {},
   "outputs": [
    {
     "name": "stdout",
     "output_type": "stream",
     "text": [
      "10 Most Common Words in 'shakespeare-caesar.txt':\n",
      "-----------------------------------------------\n",
      "[(',', 2204), ('.', 1296), ('I', 531), ('the', 502), (':', 499), ('and', 409), (\"'\", 384), ('to', 370), ('you', 342), ('of', 336)]\n",
      "\n",
      "\n",
      "10 Most Common Words in 'shakespeare-hamlet.txt':\n",
      "-----------------------------------------------\n",
      "[(',', 2892), ('.', 1886), ('the', 860), (\"'\", 729), ('and', 606), ('of', 576), ('to', 576), (':', 565), ('I', 553), ('you', 479)]\n",
      "\n",
      "\n",
      "10 Most Common Words in 'shakespeare-macbeth.txt':\n",
      "-----------------------------------------------\n",
      "[(',', 2204), ('.', 1296), ('I', 531), ('the', 502), (':', 499), ('and', 409), (\"'\", 384), ('to', 370), ('you', 342), ('of', 336)]\n",
      "\n",
      "\n"
     ]
    }
   ],
   "source": [
    "caesar = nltk.corpus.gutenberg.words('shakespeare-caesar.txt')\n",
    "hamlet = nltk.corpus.gutenberg.words('shakespeare-hamlet.txt')\n",
    "macbeth = nltk.corpus.gutenberg.words('shakespeare-macbeth.txt')\n",
    "\n",
    "caesar_freq = FreqDist(emma)\n",
    "hamlet_freq = FreqDist(hamlet)\n",
    "macb_freq = FreqDist(caesar)\n",
    "print(\"10 Most Common Words in 'shakespeare-caesar.txt':\")\n",
    "print(\"-----------------------------------------------\")\n",
    "print(caesar_freq.most_common(10))\n",
    "print(\"\\n\")\n",
    "\n",
    "print(\"10 Most Common Words in 'shakespeare-hamlet.txt':\")\n",
    "print(\"-----------------------------------------------\")\n",
    "print(hamlet_freq.most_common(10))\n",
    "print(\"\\n\")\n",
    "\n",
    "print(\"10 Most Common Words in 'shakespeare-macbeth.txt':\")\n",
    "print(\"-----------------------------------------------\")\n",
    "print(macb_freq.most_common(10))\n",
    "print(\"\\n\")"
   ]
  },
  {
   "cell_type": "markdown",
   "id": "c126011c",
   "metadata": {},
   "source": [
    "### User-defined function to remove stopwords and punctuation"
   ]
  },
  {
   "cell_type": "code",
   "execution_count": 3,
   "id": "53f61de5",
   "metadata": {},
   "outputs": [],
   "source": [
    "def FreqCount(works):\n",
    "    works_noSW=[] # empty list to hold words excluding stopwords\n",
    "    stops = set(stopwords.words(\"english\")) # list of all english stopwords supported, in lower-case\n",
    "    punctuations = string.punctuation # list of punctuations\n",
    "    \n",
    "    # iterate through each word in a list, making a new list excluding all the stopwords and punctuation characters\n",
    "    \n",
    "    for word in works:\n",
    "        if (word.lower() not in stops and (word not in punctuations)):\n",
    "            works_noSW.append(word)\n",
    "    works_freq = FreqDist(works_noSW) # get word frequencies\n",
    "    return works_freq"
   ]
  },
  {
   "cell_type": "markdown",
   "id": "82e5606e",
   "metadata": {},
   "source": [
    "### Calling user defined function on other texts from the gutenberg collection"
   ]
  },
  {
   "cell_type": "code",
   "execution_count": 4,
   "id": "1d53ebb3",
   "metadata": {},
   "outputs": [],
   "source": [
    "caesar_freq = FreqCount(gutenberg.words('shakespeare-caesar.txt')) \n",
    "hamlet_freq = FreqCount(gutenberg.words('shakespeare-hamlet.txt'))                       \n",
    "macbeth_freq = FreqCount(gutenberg.words('shakespeare-macbeth.txt'))"
   ]
  },
  {
   "cell_type": "markdown",
   "id": "af59341c",
   "metadata": {},
   "source": [
    "### Print the 20 most common words from the filtered list of words"
   ]
  },
  {
   "cell_type": "code",
   "execution_count": 5,
   "id": "27d0d4a8",
   "metadata": {},
   "outputs": [
    {
     "name": "stdout",
     "output_type": "stream",
     "text": [
      "20 Most Common Words in 'shakespeare-caesar.txt' (no stopwords and punctuations):\n",
      "-----------------------------------------------\n",
      "[('Caesar', 189), ('Brutus', 161), ('Bru', 153), ('haue', 128), ('shall', 107), ('Cassi', 107), ('thou', 100), ('Cassius', 85), ('Antony', 75), ('know', 66), ('Enter', 63), ('men', 62), ('vs', 62), ('man', 58), ('thee', 55), ('come', 50), ('good', 49), ('Ant', 48), ('thy', 46), ('day', 44)]\n",
      "\n",
      "\n",
      "20 Most Common Words in 'shakespeare-hamlet.txt' (no stopwords and punctuations):\n",
      "-----------------------------------------------\n",
      "[('Ham', 337), ('Lord', 211), ('King', 172), ('haue', 161), ('shall', 104), ('Hamlet', 99), ('Hor', 95), ('thou', 93), ('thy', 83), ('Enter', 82), ('good', 76), ('Oh', 76), ('like', 73), ('come', 70), ('know', 70), ('selfe', 66), ('vs', 64), ('let', 62), ('Qu', 62), ('would', 60)]\n",
      "\n",
      "\n",
      "20 Most Common Words in 'shakespeare-macbeth.txt' (no stopwords and punctuations):\n",
      "-----------------------------------------------\n",
      "[('Macb', 137), ('haue', 117), ('Enter', 80), ('thou', 63), ('Macbeth', 61), ('thee', 61), ('Macd', 58), ('vs', 57), ('King', 55), ('vpon', 51), ('th', 51), ('yet', 50), ('Rosse', 49), ('shall', 48), ('Lady', 48), ('thy', 46), ('st', 42), ('would', 42), ('time', 42), ('good', 40)]\n",
      "\n",
      "\n"
     ]
    }
   ],
   "source": [
    "print(\"20 Most Common Words in 'shakespeare-caesar.txt' (no stopwords and punctuations):\")\n",
    "print(\"-----------------------------------------------\")\n",
    "print(caesar_freq.most_common(20))\n",
    "print(\"\\n\")\n",
    "\n",
    "print(\"20 Most Common Words in 'shakespeare-hamlet.txt' (no stopwords and punctuations):\")\n",
    "print(\"-----------------------------------------------\")\n",
    "print(hamlet_freq.most_common(20))\n",
    "print(\"\\n\")\n",
    "\n",
    "print(\"20 Most Common Words in 'shakespeare-macbeth.txt' (no stopwords and punctuations):\")\n",
    "print(\"-----------------------------------------------\")\n",
    "print(macbeth_freq.most_common(20))\n",
    "print(\"\\n\")"
   ]
  }
 ],
 "metadata": {
  "kernelspec": {
   "display_name": "Python 3",
   "language": "python",
   "name": "python3"
  },
  "language_info": {
   "codemirror_mode": {
    "name": "ipython",
    "version": 3
   },
   "file_extension": ".py",
   "mimetype": "text/x-python",
   "name": "python",
   "nbconvert_exporter": "python",
   "pygments_lexer": "ipython3",
   "version": "3.8.8"
  }
 },
 "nbformat": 4,
 "nbformat_minor": 5
}
