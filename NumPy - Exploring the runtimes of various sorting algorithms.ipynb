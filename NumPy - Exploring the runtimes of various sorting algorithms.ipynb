{
 "cells": [
  {
   "cell_type": "markdown",
   "id": "33a9fc79",
   "metadata": {},
   "source": [
    "## Importing the modules"
   ]
  },
  {
   "cell_type": "code",
   "execution_count": 1,
   "id": "e679963d",
   "metadata": {},
   "outputs": [],
   "source": [
    "import numpy as np\n",
    "from numpy import random"
   ]
  },
  {
   "cell_type": "code",
   "execution_count": 6,
   "id": "f6608c24",
   "metadata": {},
   "outputs": [],
   "source": [
    "#Creates an array of 1000 integer elements upto 100 in value\n",
    "\n",
    "myArray=random.randint(1, 101, size=(1000))"
   ]
  },
  {
   "cell_type": "markdown",
   "id": "b98356d6",
   "metadata": {},
   "source": [
    "## Summary statistics"
   ]
  },
  {
   "cell_type": "code",
   "execution_count": 7,
   "id": "f1142247",
   "metadata": {},
   "outputs": [
    {
     "name": "stdout",
     "output_type": "stream",
     "text": [
      "Dimension of the Array is: 1 dimensional\n",
      "Shape of the Array is: (1000,) (Since myArray is 1-d, it has a row vector; its shape is a single value sequence followed by a comma.)\n",
      "Data type of the Array is: int32\n",
      "\n",
      "\n"
     ]
    }
   ],
   "source": [
    "#Dimensions of the Array\n",
    "print(\"Dimension of the Array is:\", myArray.ndim, \"dimensional\")\n",
    "\n",
    "#Shape of the Array\n",
    "print(\"Shape of the Array is:\", myArray.shape, \"(Since myArray is 1-d, it has a row vector; its shape is a single value sequence followed by a comma.)\")\n",
    "\n",
    "#DataType of the Array\n",
    "print(\"Data type of the Array is:\", myArray.dtype)\n",
    "print(\"\\n\")"
   ]
  },
  {
   "cell_type": "markdown",
   "id": "95890973",
   "metadata": {},
   "source": [
    "## Summary statistics using Numpy"
   ]
  },
  {
   "cell_type": "code",
   "execution_count": 10,
   "id": "c33a1dc9",
   "metadata": {},
   "outputs": [
    {
     "name": "stdout",
     "output_type": "stream",
     "text": [
      "**SUMMARY STATISTICS USING NUMPY*** \n",
      "\n",
      "Minimum value of the array: 1\n",
      "Maximum value of the array: 100\n",
      "Sum of the values in the array: 49011\n",
      "Mean of the array: 49.011\n",
      "Standard deviation of values in the array: 28.63265406838842\n",
      "\n",
      "\n"
     ]
    }
   ],
   "source": [
    "#Using numpy’s functions to print the min, max, sum, mean and standard deviation of the values in the array\n",
    "\n",
    "print(\"**SUMMARY STATISTICS USING NUMPY*** \\n\")\n",
    "\n",
    "print(\"Minimum value of the array:\", np.min(myArray))\n",
    "print(\"Maximum value of the array:\", np.max(myArray))\n",
    "print(\"Sum of the values in the array:\", np.sum(myArray))\n",
    "print(\"Mean of the array:\", np.mean(myArray))\n",
    "print(\"Standard deviation of values in the array:\", np.std(myArray))\n",
    "print(\"\\n\")"
   ]
  },
  {
   "cell_type": "markdown",
   "id": "429d02ca",
   "metadata": {},
   "source": [
    "## Importing timeit module to check execution times"
   ]
  },
  {
   "cell_type": "code",
   "execution_count": 12,
   "id": "bc9dd38e",
   "metadata": {},
   "outputs": [],
   "source": [
    "import timeit\n",
    "\n",
    "timeit_setup = \"\"\"\n",
    "from numpy import random\n",
    "import numpy as np\n",
    "s=100 #**update size of array here**\n",
    "myArray2 =random.randint(1, 101, size=(s))\"\"\""
   ]
  },
  {
   "cell_type": "code",
   "execution_count": 14,
   "id": "05bef673",
   "metadata": {},
   "outputs": [
    {
     "name": "stdout",
     "output_type": "stream",
     "text": [
      "*** When size of the array = 100 *** \n",
      "\n",
      "Execution time of Quick sort is: 2.6139586000000463\n",
      "Execution time of Merge sort is: 3.171236800000031\n",
      "Execution time of Heap sort is: 2.828164300000026\n"
     ]
    }
   ],
   "source": [
    "print(\"*** When size of the array = 100 *** \\n\")\n",
    "\n",
    "#QUICKSORT\n",
    "statement1 = \"\"\"np.sort(myArray2, kind=None)\"\"\" #default-quicksort\n",
    "print(f\"Execution time of Quick sort is: {timeit.timeit(setup = timeit_setup, stmt = statement1)}\")\n",
    "\n",
    "#MERGEORT\n",
    "statement2 = \"\"\"np.sort(myArray2, kind='mergesort')\"\"\"\n",
    "print(f\"Execution time of Merge sort is: {timeit.timeit(setup = timeit_setup, stmt = statement2)}\")\n",
    "\n",
    "#HEAPSORT\n",
    "statement3 = \"\"\"np.sort(myArray2, kind='heapsort')\"\"\"\n",
    "print(f\"Execution time of Heap sort is: {timeit.timeit(setup = timeit_setup, stmt = statement3)}\")\n"
   ]
  },
  {
   "cell_type": "markdown",
   "id": "b9492361",
   "metadata": {},
   "source": [
    "## Exploring the runtimes of different sorting methods"
   ]
  },
  {
   "cell_type": "markdown",
   "id": "04692c8c",
   "metadata": {},
   "source": [
    "NOTE: The below execution times are for one observation, run-times differ on an average.\n",
    "\n",
    "when size of array=10, execution times: Quick sort > Merge sort > Heap sort\n",
    "when size of array=100, execution times: Merge sort > Quick sort > Heap sort\n",
    "when size of array=1000, execution times: Heap sort > Merge sort > Quick sort\n",
    "when size of array=10000, execution times: Heap sort > Merge sort > Quick sort\n",
    "\n",
    "Conventionally, time to sort an array increases with the size of the array.\n",
    "It can be observed that among the three sorting techniques, HEAP SORT takes the highest time on an average to sort an array.\n",
    "QUICK SORT is the most efficient, hence it is the most commonly used technique in practice.\n",
    "The average case shows that Quicksort runs at the same time as Heapsort for smaller sized arrays."
   ]
  },
  {
   "cell_type": "code",
   "execution_count": null,
   "id": "8b3cd85f",
   "metadata": {},
   "outputs": [],
   "source": []
  }
 ],
 "metadata": {
  "kernelspec": {
   "display_name": "Python 3",
   "language": "python",
   "name": "python3"
  },
  "language_info": {
   "codemirror_mode": {
    "name": "ipython",
    "version": 3
   },
   "file_extension": ".py",
   "mimetype": "text/x-python",
   "name": "python",
   "nbconvert_exporter": "python",
   "pygments_lexer": "ipython3",
   "version": "3.8.8"
  }
 },
 "nbformat": 4,
 "nbformat_minor": 5
}
